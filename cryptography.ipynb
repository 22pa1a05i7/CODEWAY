{
  "nbformat": 4,
  "nbformat_minor": 0,
  "metadata": {
    "colab": {
      "provenance": [],
      "authorship_tag": "ABX9TyO0aqvlyQlpyTPd/wyj5+gc",
      "include_colab_link": true
    },
    "kernelspec": {
      "name": "python3",
      "display_name": "Python 3"
    },
    "language_info": {
      "name": "python"
    }
  },
  "cells": [
    {
      "cell_type": "markdown",
      "metadata": {
        "id": "view-in-github",
        "colab_type": "text"
      },
      "source": [
        "<a href=\"https://colab.research.google.com/github/22pa1a05i7/CODEWAY/blob/main/cryptography.ipynb\" target=\"_parent\"><img src=\"https://colab.research.google.com/assets/colab-badge.svg\" alt=\"Open In Colab\"/></a>"
      ]
    },
    {
      "cell_type": "code",
      "execution_count": 2,
      "metadata": {
        "colab": {
          "base_uri": "https://localhost:8080/"
        },
        "id": "Az81GN3jFiiU",
        "outputId": "44cef51c-a93a-4cb5-e0d1-f3e3876dab4d"
      },
      "outputs": [
        {
          "output_type": "stream",
          "name": "stdout",
          "text": [
            "Encrypted Text: Rcdpm, Agvjv!\n",
            "Decrypted Text: Hello, World!\n"
          ]
        }
      ],
      "source": [
        "def generate_key(msg, key):\n",
        "    key = list(key)\n",
        "    if len(msg) == len(key):\n",
        "        return key\n",
        "    else:\n",
        "        for i in range(len(msg) - len(key)):\n",
        "            key.append(key[i % len(key)])\n",
        "    return \"\".join(key)\n",
        "\n",
        "def encrypt_vigenere(msg, key):\n",
        "    encrypted_text = []\n",
        "    key = generate_key(msg, key)\n",
        "    for i in range(len(msg)):\n",
        "        char = msg[i]\n",
        "        if char.isupper():\n",
        "            encrypted_char = chr((ord(char) + ord(key[i]) - 2 * ord('A')) % 26 + ord('A'))\n",
        "        elif char.islower():\n",
        "            encrypted_char = chr((ord(char) + ord(key[i]) - 2 * ord('a')) % 26 + ord('a'))\n",
        "        else:\n",
        "            encrypted_char = char\n",
        "        encrypted_text.append(encrypted_char)\n",
        "    return \"\".join(encrypted_text)\n",
        "\n",
        "def decrypt_vigenere(msg, key):\n",
        "    decrypted_text = []\n",
        "    key = generate_key(msg, key)\n",
        "    for i in range(len(msg)):\n",
        "        char = msg[i]\n",
        "        if char.isupper():\n",
        "            decrypted_char = chr((ord(char) - ord(key[i]) + 26) % 26 + ord('A'))\n",
        "        elif char.islower():\n",
        "            decrypted_char = chr((ord(char) - ord(key[i]) + 26) % 26 + ord('a'))\n",
        "        else:\n",
        "            decrypted_char = char\n",
        "        decrypted_text.append(decrypted_char)\n",
        "    return \"\".join(decrypted_text)\n",
        "\n",
        "# Example usage\n",
        "text_to_encrypt = \"Hello, World!\"\n",
        "key = \"KEY\"\n",
        "\n",
        "encrypted_text = encrypt_vigenere(text_to_encrypt, key)\n",
        "print(f\"Encrypted Text: {encrypted_text}\")\n",
        "\n",
        "decrypted_text = decrypt_vigenere(encrypted_text, key)\n",
        "print(f\"Decrypted Text: {decrypted_text}\")\n",
        "\n",
        "#previous code was only support the upper case letters\n",
        "#this code can be apply on both\n"
      ]
    }
  ]
}